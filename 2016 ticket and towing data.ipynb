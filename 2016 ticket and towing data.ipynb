{
 "cells": [
  {
   "cell_type": "code",
   "execution_count": 1,
   "metadata": {
    "collapsed": true
   },
   "outputs": [],
   "source": [
    "import pandas as pd"
   ]
  },
  {
   "cell_type": "code",
   "execution_count": 2,
   "metadata": {
    "collapsed": true
   },
   "outputs": [],
   "source": [
    "import datetime as dt"
   ]
  },
  {
   "cell_type": "markdown",
   "metadata": {},
   "source": [
    "# Import Towing Data"
   ]
  },
  {
   "cell_type": "code",
   "execution_count": 3,
   "metadata": {
    "collapsed": true
   },
   "outputs": [],
   "source": [
    "#Import 2016 towing data \n",
    "tow_data_2016 = pd.read_csv(\"/Users/eramos/Documents/data_stories/tows/data/ticket_data/final_working_data_to_be_posted_for_story/edited_tows_concatenated.csv\")"
   ]
  },
  {
   "cell_type": "code",
   "execution_count": 4,
   "metadata": {
    "collapsed": false
   },
   "outputs": [
    {
     "data": {
      "text/html": [
       "<div>\n",
       "<table border=\"1\" class=\"dataframe\">\n",
       "  <thead>\n",
       "    <tr style=\"text-align: right;\">\n",
       "      <th></th>\n",
       "      <th>Column</th>\n",
       "      <th>Service Request No</th>\n",
       "      <th>original_address_field</th>\n",
       "      <th>st_num</th>\n",
       "      <th>st_dir</th>\n",
       "      <th>st_name</th>\n",
       "      <th>Location</th>\n",
       "      <th>Created Date</th>\n",
       "      <th>Status Date</th>\n",
       "      <th>Status</th>\n",
       "      <th>Vehicle Make/Model</th>\n",
       "      <th>License Plate Number</th>\n",
       "      <th>Pound assigned inventory number</th>\n",
       "      <th>City X Coordinate</th>\n",
       "      <th>City Y Coordinate</th>\n",
       "      <th>Vehicle Body Style</th>\n",
       "      <th>impound_date</th>\n",
       "      <th>date</th>\n",
       "      <th>X Coordinate</th>\n",
       "      <th>Y Coordinate</th>\n",
       "    </tr>\n",
       "  </thead>\n",
       "  <tbody>\n",
       "    <tr>\n",
       "      <th>0</th>\n",
       "      <td>0.0</td>\n",
       "      <td>16-00055456</td>\n",
       "      <td>176 W WASHINGTON ST</td>\n",
       "      <td>176.0</td>\n",
       "      <td>W</td>\n",
       "      <td>WASHINGTON ST</td>\n",
       "      <td>176 W WASHINGTON ST</td>\n",
       "      <td>1/4/2016 0:00</td>\n",
       "      <td>2/19/2016 0:00</td>\n",
       "      <td>Completed</td>\n",
       "      <td>Honda</td>\n",
       "      <td>2501550</td>\n",
       "      <td>940372.0</td>\n",
       "      <td>1174909.232</td>\n",
       "      <td>1900809.187</td>\n",
       "      <td>Sedan 2 Door</td>\n",
       "      <td>1/2/2016</td>\n",
       "      <td>1/2/2016</td>\n",
       "      <td>-87.633178</td>\n",
       "      <td>41.883209</td>\n",
       "    </tr>\n",
       "    <tr>\n",
       "      <th>1</th>\n",
       "      <td>1.0</td>\n",
       "      <td>16-01223620</td>\n",
       "      <td>155 W HUBBARD ST</td>\n",
       "      <td>155.0</td>\n",
       "      <td>W</td>\n",
       "      <td>HUBBARD ST</td>\n",
       "      <td>155 W HUBBARD ST</td>\n",
       "      <td>2/29/2016 0:00</td>\n",
       "      <td>4/7/2016 0:00</td>\n",
       "      <td>Completed</td>\n",
       "      <td>Bmw</td>\n",
       "      <td>TOLDUTO</td>\n",
       "      <td>942727.0</td>\n",
       "      <td>1174958.318</td>\n",
       "      <td>1903283.649</td>\n",
       "      <td>Sedan 2 Door</td>\n",
       "      <td>2/27/2016</td>\n",
       "      <td>2/27/2016</td>\n",
       "      <td>-87.632924</td>\n",
       "      <td>41.889998</td>\n",
       "    </tr>\n",
       "    <tr>\n",
       "      <th>2</th>\n",
       "      <td>2.0</td>\n",
       "      <td>16-01515133</td>\n",
       "      <td>721 S CLARK ST</td>\n",
       "      <td>721.0</td>\n",
       "      <td>S</td>\n",
       "      <td>CLARK ST</td>\n",
       "      <td>721 S CLARK ST</td>\n",
       "      <td>3/9/2016 0:00</td>\n",
       "      <td>4/7/2016 0:00</td>\n",
       "      <td>Completed</td>\n",
       "      <td>Honda</td>\n",
       "      <td>Z791085</td>\n",
       "      <td>943221.0</td>\n",
       "      <td>1175631.640</td>\n",
       "      <td>1897141.290</td>\n",
       "      <td>Sedan 4 Door</td>\n",
       "      <td>3/8/2016</td>\n",
       "      <td>3/8/2016</td>\n",
       "      <td>-87.630636</td>\n",
       "      <td>41.873128</td>\n",
       "    </tr>\n",
       "    <tr>\n",
       "      <th>3</th>\n",
       "      <td>3.0</td>\n",
       "      <td>16-01906375</td>\n",
       "      <td>411 N STATE ST</td>\n",
       "      <td>411.0</td>\n",
       "      <td>N</td>\n",
       "      <td>STATE ST</td>\n",
       "      <td>411 N STATE ST</td>\n",
       "      <td>3/21/2016 0:00</td>\n",
       "      <td>4/7/2016 0:00</td>\n",
       "      <td>Completed</td>\n",
       "      <td>Toyota</td>\n",
       "      <td>Q115706</td>\n",
       "      <td>943771.0</td>\n",
       "      <td>1176295.418</td>\n",
       "      <td>1903135.208</td>\n",
       "      <td>Sedan 4 Door</td>\n",
       "      <td>3/18/2016</td>\n",
       "      <td>3/18/2016</td>\n",
       "      <td>-87.628018</td>\n",
       "      <td>41.889561</td>\n",
       "    </tr>\n",
       "    <tr>\n",
       "      <th>4</th>\n",
       "      <td>4.0</td>\n",
       "      <td>16-01981401</td>\n",
       "      <td>61 E SCHILLER ST</td>\n",
       "      <td>61.0</td>\n",
       "      <td>E</td>\n",
       "      <td>SCHILLER ST</td>\n",
       "      <td>61 E SCHILLER ST</td>\n",
       "      <td>3/24/2016 0:00</td>\n",
       "      <td>4/7/2016 0:00</td>\n",
       "      <td>Completed</td>\n",
       "      <td>Nissan</td>\n",
       "      <td>S417492</td>\n",
       "      <td>944111.0</td>\n",
       "      <td>1176575.460</td>\n",
       "      <td>1909795.099</td>\n",
       "      <td>Sedan 4 Door</td>\n",
       "      <td>3/23/2016</td>\n",
       "      <td>3/23/2016</td>\n",
       "      <td>-87.626788</td>\n",
       "      <td>41.907830</td>\n",
       "    </tr>\n",
       "  </tbody>\n",
       "</table>\n",
       "</div>"
      ],
      "text/plain": [
       "   Column Service Request No original_address_field  st_num st_dir  \\\n",
       "0     0.0        16-00055456    176 W WASHINGTON ST   176.0      W   \n",
       "1     1.0        16-01223620       155 W HUBBARD ST   155.0      W   \n",
       "2     2.0        16-01515133         721 S CLARK ST   721.0      S   \n",
       "3     3.0        16-01906375         411 N STATE ST   411.0      N   \n",
       "4     4.0        16-01981401       61 E SCHILLER ST    61.0      E   \n",
       "\n",
       "         st_name             Location    Created Date     Status Date  \\\n",
       "0  WASHINGTON ST  176 W WASHINGTON ST   1/4/2016 0:00  2/19/2016 0:00   \n",
       "1     HUBBARD ST     155 W HUBBARD ST  2/29/2016 0:00   4/7/2016 0:00   \n",
       "2       CLARK ST       721 S CLARK ST   3/9/2016 0:00   4/7/2016 0:00   \n",
       "3       STATE ST       411 N STATE ST  3/21/2016 0:00   4/7/2016 0:00   \n",
       "4    SCHILLER ST     61 E SCHILLER ST  3/24/2016 0:00   4/7/2016 0:00   \n",
       "\n",
       "      Status Vehicle Make/Model License Plate Number  \\\n",
       "0  Completed              Honda              2501550   \n",
       "1  Completed                Bmw              TOLDUTO   \n",
       "2  Completed              Honda              Z791085   \n",
       "3  Completed             Toyota              Q115706   \n",
       "4  Completed             Nissan              S417492   \n",
       "\n",
       "   Pound assigned inventory number  City X Coordinate  City Y Coordinate  \\\n",
       "0                         940372.0        1174909.232        1900809.187   \n",
       "1                         942727.0        1174958.318        1903283.649   \n",
       "2                         943221.0        1175631.640        1897141.290   \n",
       "3                         943771.0        1176295.418        1903135.208   \n",
       "4                         944111.0        1176575.460        1909795.099   \n",
       "\n",
       "  Vehicle Body Style impound_date       date  X Coordinate  Y Coordinate  \n",
       "0       Sedan 2 Door     1/2/2016   1/2/2016    -87.633178     41.883209  \n",
       "1       Sedan 2 Door    2/27/2016  2/27/2016    -87.632924     41.889998  \n",
       "2       Sedan 4 Door     3/8/2016   3/8/2016    -87.630636     41.873128  \n",
       "3       Sedan 4 Door    3/18/2016  3/18/2016    -87.628018     41.889561  \n",
       "4       Sedan 4 Door    3/23/2016  3/23/2016    -87.626788     41.907830  "
      ]
     },
     "execution_count": 4,
     "metadata": {},
     "output_type": "execute_result"
    }
   ],
   "source": [
    "#Check import\n",
    "tow_data_2016.head()"
   ]
  },
  {
   "cell_type": "code",
   "execution_count": 6,
   "metadata": {
    "collapsed": true
   },
   "outputs": [],
   "source": [
    "#Transform impound date into datetime\n",
    "tow_data_2016['date'] = pd.to_datetime(tow_data_2016['impound_date'], unit=\"s\")"
   ]
  },
  {
   "cell_type": "code",
   "execution_count": 7,
   "metadata": {
    "collapsed": false
   },
   "outputs": [
    {
     "data": {
      "text/plain": [
       "Column                                    float64\n",
       "Service Request No                         object\n",
       "original_address_field                     object\n",
       "st_num                                    float64\n",
       "st_dir                                     object\n",
       "st_name                                    object\n",
       "Location                                   object\n",
       "Created Date                               object\n",
       "Status Date                                object\n",
       "Status                                     object\n",
       "Vehicle Make/Model                         object\n",
       "License Plate Number                       object\n",
       "Pound assigned inventory number           float64\n",
       "City X Coordinate                         float64\n",
       "City Y Coordinate                         float64\n",
       "Vehicle Body Style                         object\n",
       "impound_date                               object\n",
       "date                               datetime64[ns]\n",
       "X Coordinate                              float64\n",
       "Y Coordinate                              float64\n",
       "dtype: object"
      ]
     },
     "execution_count": 7,
     "metadata": {},
     "output_type": "execute_result"
    }
   ],
   "source": [
    "#Check data types of columns\n",
    "tow_data_2016.dtypes"
   ]
  },
  {
   "cell_type": "markdown",
   "metadata": {},
   "source": [
    "# Import Ticket Data"
   ]
  },
  {
   "cell_type": "code",
   "execution_count": 8,
   "metadata": {
    "collapsed": true
   },
   "outputs": [],
   "source": [
    "ticket_data_2016 = pd.read_csv(\"/Users/eramos/Documents/data_stories/tows/data/foia_data_sets/A50611_2016_20170112.txt\", sep='$')"
   ]
  },
  {
   "cell_type": "code",
   "execution_count": 9,
   "metadata": {
    "collapsed": true
   },
   "outputs": [],
   "source": [
    "#Transform violation codes into a string\n",
    "ticket_data_2016['Violation Code'] = ticket_data_2016['Violation Code'].astype(str)"
   ]
  },
  {
   "cell_type": "code",
   "execution_count": 10,
   "metadata": {
    "collapsed": true
   },
   "outputs": [],
   "source": [
    "#Takes ovenight snow route violation code\n",
    "ticket_data_2016[\"overnight\"] = ticket_data_2016['Violation Code'].isin(['0964060'])"
   ]
  },
  {
   "cell_type": "code",
   "execution_count": 11,
   "metadata": {
    "collapsed": true
   },
   "outputs": [],
   "source": [
    "#Transform violation codes into a string\n",
    "ticket_data_2016['License Plate Number'] = ticket_data_2016['License Plate Number'].astype(str)"
   ]
  },
  {
   "cell_type": "code",
   "execution_count": 12,
   "metadata": {
    "collapsed": true
   },
   "outputs": [],
   "source": [
    "overnight_ticket_data_2016 = ticket_data_2016[(ticket_data_2016['overnight'] == True)]"
   ]
  },
  {
   "cell_type": "code",
   "execution_count": 13,
   "metadata": {
    "collapsed": false
   },
   "outputs": [
    {
     "data": {
      "text/html": [
       "<div>\n",
       "<table border=\"1\" class=\"dataframe\">\n",
       "  <thead>\n",
       "    <tr style=\"text-align: right;\">\n",
       "      <th></th>\n",
       "      <th>Issue Date</th>\n",
       "      <th>Violation Location</th>\n",
       "      <th>License Plate Number</th>\n",
       "      <th>License Plate State</th>\n",
       "      <th>License Plate Type</th>\n",
       "      <th>Violation Code</th>\n",
       "      <th>Violation Description</th>\n",
       "      <th>Unit</th>\n",
       "      <th>Vehicle Make</th>\n",
       "      <th>Fine Level 1 Amount</th>\n",
       "      <th>overnight</th>\n",
       "    </tr>\n",
       "  </thead>\n",
       "  <tbody>\n",
       "    <tr>\n",
       "      <th>8801</th>\n",
       "      <td>1/4/2016 3:18:00 AM</td>\n",
       "      <td>69 E 22ND ST</td>\n",
       "      <td>A911388</td>\n",
       "      <td>IL</td>\n",
       "      <td>PAS</td>\n",
       "      <td>0964060</td>\n",
       "      <td>3-7 AM SNOW ROUTE</td>\n",
       "      <td>1</td>\n",
       "      <td>TOYT</td>\n",
       "      <td>60</td>\n",
       "      <td>True</td>\n",
       "    </tr>\n",
       "    <tr>\n",
       "      <th>8807</th>\n",
       "      <td>1/2/2016 3:12:00 AM</td>\n",
       "      <td>1940 W FOSTER</td>\n",
       "      <td>3329424</td>\n",
       "      <td>IL</td>\n",
       "      <td>PAS</td>\n",
       "      <td>0964060</td>\n",
       "      <td>3-7 AM SNOW ROUTE</td>\n",
       "      <td>20</td>\n",
       "      <td>FORD</td>\n",
       "      <td>60</td>\n",
       "      <td>True</td>\n",
       "    </tr>\n",
       "    <tr>\n",
       "      <th>8808</th>\n",
       "      <td>1/2/2016 3:13:00 AM</td>\n",
       "      <td>2010 W FOSTER</td>\n",
       "      <td>217GGY</td>\n",
       "      <td>WI</td>\n",
       "      <td>PAS</td>\n",
       "      <td>0964060</td>\n",
       "      <td>3-7 AM SNOW ROUTE</td>\n",
       "      <td>20</td>\n",
       "      <td>VOLK</td>\n",
       "      <td>60</td>\n",
       "      <td>True</td>\n",
       "    </tr>\n",
       "    <tr>\n",
       "      <th>8809</th>\n",
       "      <td>1/2/2016 3:17:00 AM</td>\n",
       "      <td>2310 W FOSTER</td>\n",
       "      <td>H929211</td>\n",
       "      <td>IL</td>\n",
       "      <td>PAS</td>\n",
       "      <td>0964060</td>\n",
       "      <td>3-7 AM SNOW ROUTE</td>\n",
       "      <td>20</td>\n",
       "      <td>TOYT</td>\n",
       "      <td>60</td>\n",
       "      <td>True</td>\n",
       "    </tr>\n",
       "    <tr>\n",
       "      <th>8856</th>\n",
       "      <td>1/2/2016 3:40:00 AM</td>\n",
       "      <td>1349 S STATE ST</td>\n",
       "      <td>AKM883</td>\n",
       "      <td>MI</td>\n",
       "      <td>PAS</td>\n",
       "      <td>0964060</td>\n",
       "      <td>3-7 AM SNOW ROUTE</td>\n",
       "      <td>1</td>\n",
       "      <td>CHEV</td>\n",
       "      <td>60</td>\n",
       "      <td>True</td>\n",
       "    </tr>\n",
       "  </tbody>\n",
       "</table>\n",
       "</div>"
      ],
      "text/plain": [
       "               Issue Date Violation Location License Plate Number  \\\n",
       "8801  1/4/2016 3:18:00 AM       69 E 22ND ST              A911388   \n",
       "8807  1/2/2016 3:12:00 AM      1940 W FOSTER              3329424   \n",
       "8808  1/2/2016 3:13:00 AM      2010 W FOSTER               217GGY   \n",
       "8809  1/2/2016 3:17:00 AM      2310 W FOSTER              H929211   \n",
       "8856  1/2/2016 3:40:00 AM    1349 S STATE ST               AKM883   \n",
       "\n",
       "     License Plate State License Plate Type Violation Code  \\\n",
       "8801                  IL                PAS        0964060   \n",
       "8807                  IL                PAS        0964060   \n",
       "8808                  WI                PAS        0964060   \n",
       "8809                  IL                PAS        0964060   \n",
       "8856                  MI                PAS        0964060   \n",
       "\n",
       "     Violation Description  Unit Vehicle Make  Fine Level 1 Amount overnight  \n",
       "8801     3-7 AM SNOW ROUTE     1         TOYT                   60      True  \n",
       "8807     3-7 AM SNOW ROUTE    20         FORD                   60      True  \n",
       "8808     3-7 AM SNOW ROUTE    20         VOLK                   60      True  \n",
       "8809     3-7 AM SNOW ROUTE    20         TOYT                   60      True  \n",
       "8856     3-7 AM SNOW ROUTE     1         CHEV                   60      True  "
      ]
     },
     "execution_count": 13,
     "metadata": {},
     "output_type": "execute_result"
    }
   ],
   "source": [
    "#Check if dataframe is correctly importing only overnight parking ban tickets\n",
    "overnight_ticket_data_2016[:5]"
   ]
  },
  {
   "cell_type": "markdown",
   "metadata": {},
   "source": [
    "# Import of second FOIA set from Dept of Finance - includes findings, fine levels"
   ]
  },
  {
   "cell_type": "code",
   "execution_count": 14,
   "metadata": {
    "collapsed": true
   },
   "outputs": [],
   "source": [
    "finance_ticket_data_2016 = pd.read_csv(\"/Users/eramos/Documents/data_stories/tows/data/ticket_data/final_working_data_to_be_posted_for_story/for_real_reals/finance_overnight_tickets_2016-final.csv\")"
   ]
  },
  {
   "cell_type": "code",
   "execution_count": 15,
   "metadata": {
    "collapsed": false
   },
   "outputs": [
    {
     "data": {
      "text/html": [
       "<div>\n",
       "<table border=\"1\" class=\"dataframe\">\n",
       "  <thead>\n",
       "    <tr style=\"text-align: right;\">\n",
       "      <th></th>\n",
       "      <th>X</th>\n",
       "      <th>Y</th>\n",
       "      <th>iss_dt_tim</th>\n",
       "      <th>st_num</th>\n",
       "      <th>st_dir</th>\n",
       "      <th>st_nm</th>\n",
       "      <th>st_name_edit</th>\n",
       "      <th>address</th>\n",
       "      <th>lcns_plt_n</th>\n",
       "      <th>lcns_plt_s</th>\n",
       "      <th>viol_cd</th>\n",
       "      <th>viol_desc</th>\n",
       "      <th>rpt_dstrct</th>\n",
       "      <th>vhcl_make</th>\n",
       "      <th>fine_lvl</th>\n",
       "      <th>tckt_que</th>\n",
       "      <th>year</th>\n",
       "      <th>on_route</th>\n",
       "    </tr>\n",
       "  </thead>\n",
       "  <tbody>\n",
       "    <tr>\n",
       "      <th>0</th>\n",
       "      <td>-87.67453</td>\n",
       "      <td>42.00982</td>\n",
       "      <td>1/3/2016 3:19</td>\n",
       "      <td>7028</td>\n",
       "      <td>N</td>\n",
       "      <td>CLARK</td>\n",
       "      <td>CLARK ST</td>\n",
       "      <td>7028 N CLARK</td>\n",
       "      <td>DL5058D</td>\n",
       "      <td>IL</td>\n",
       "      <td>964060</td>\n",
       "      <td>3-7 AM SNOW ROUTE</td>\n",
       "      <td>24</td>\n",
       "      <td>FORD</td>\n",
       "      <td>120</td>\n",
       "      <td>Paid</td>\n",
       "      <td>2016</td>\n",
       "      <td>True</td>\n",
       "    </tr>\n",
       "    <tr>\n",
       "      <th>1</th>\n",
       "      <td>-87.67381</td>\n",
       "      <td>41.97636</td>\n",
       "      <td>12/1/2016 3:12</td>\n",
       "      <td>1742</td>\n",
       "      <td>W</td>\n",
       "      <td>FOSTER</td>\n",
       "      <td>FOSTER AVE</td>\n",
       "      <td>1742 W FOSTER</td>\n",
       "      <td>X351342</td>\n",
       "      <td>IL</td>\n",
       "      <td>964060</td>\n",
       "      <td>3-7 AM SNOW ROUTE</td>\n",
       "      <td>20</td>\n",
       "      <td>KIA</td>\n",
       "      <td>60</td>\n",
       "      <td>Paid</td>\n",
       "      <td>2016</td>\n",
       "      <td>True</td>\n",
       "    </tr>\n",
       "  </tbody>\n",
       "</table>\n",
       "</div>"
      ],
      "text/plain": [
       "          X         Y      iss_dt_tim  st_num st_dir   st_nm st_name_edit  \\\n",
       "0 -87.67453  42.00982   1/3/2016 3:19    7028      N   CLARK     CLARK ST   \n",
       "1 -87.67381  41.97636  12/1/2016 3:12    1742      W  FOSTER   FOSTER AVE   \n",
       "\n",
       "         address lcns_plt_n lcns_plt_s  viol_cd          viol_desc  \\\n",
       "0   7028 N CLARK    DL5058D         IL   964060  3-7 AM SNOW ROUTE   \n",
       "1  1742 W FOSTER    X351342         IL   964060  3-7 AM SNOW ROUTE   \n",
       "\n",
       "   rpt_dstrct vhcl_make  fine_lvl tckt_que  year on_route  \n",
       "0          24      FORD       120     Paid  2016     True  \n",
       "1          20       KIA        60     Paid  2016     True  "
      ]
     },
     "execution_count": 15,
     "metadata": {},
     "output_type": "execute_result"
    }
   ],
   "source": [
    "finance_ticket_data_2016[:2]"
   ]
  },
  {
   "cell_type": "code",
   "execution_count": 17,
   "metadata": {
    "collapsed": false
   },
   "outputs": [],
   "source": [
    "finance_ticket_data_2016['datetime'] = pd.to_datetime(finance_ticket_data_2016['iss_dt_tim'], unit=\"s\")"
   ]
  },
  {
   "cell_type": "code",
   "execution_count": 18,
   "metadata": {
    "collapsed": true
   },
   "outputs": [],
   "source": [
    "#Turn overnight tickets into normal date\n",
    "finance_ticket_data_2016['date'] = pd.DatetimeIndex(finance_ticket_data_2016.datetime).normalize()"
   ]
  },
  {
   "cell_type": "code",
   "execution_count": 19,
   "metadata": {
    "collapsed": true
   },
   "outputs": [],
   "source": [
    "finance_ticket_data_2016.rename(columns={'lcns_plt_n':'License Plate Number'}, inplace=True)"
   ]
  },
  {
   "cell_type": "code",
   "execution_count": 20,
   "metadata": {
    "collapsed": false
   },
   "outputs": [
    {
     "data": {
      "text/plain": [
       "X                              float64\n",
       "Y                              float64\n",
       "iss_dt_tim                      object\n",
       "st_num                           int64\n",
       "st_dir                          object\n",
       "st_nm                           object\n",
       "st_name_edit                    object\n",
       "address                         object\n",
       "License Plate Number            object\n",
       "lcns_plt_s                      object\n",
       "viol_cd                          int64\n",
       "viol_desc                       object\n",
       "rpt_dstrct                       int64\n",
       "vhcl_make                       object\n",
       "fine_lvl                         int64\n",
       "tckt_que                        object\n",
       "year                             int64\n",
       "on_route                          bool\n",
       "datetime                datetime64[ns]\n",
       "date                    datetime64[ns]\n",
       "dtype: object"
      ]
     },
     "execution_count": 20,
     "metadata": {},
     "output_type": "execute_result"
    }
   ],
   "source": [
    "finance_ticket_data_2016.dtypes"
   ]
  },
  {
   "cell_type": "code",
   "execution_count": 21,
   "metadata": {
    "collapsed": true
   },
   "outputs": [],
   "source": [
    "#Transform violation codes into a string\n",
    "finance_ticket_data_2016['License Plate Number'] = finance_ticket_data_2016['License Plate Number'].astype(str)"
   ]
  },
  {
   "cell_type": "code",
   "execution_count": null,
   "metadata": {
    "collapsed": true
   },
   "outputs": [],
   "source": []
  },
  {
   "cell_type": "markdown",
   "metadata": {},
   "source": [
    "# DATA SMASH - Joining Ticket and Tow Data"
   ]
  },
  {
   "cell_type": "code",
   "execution_count": 22,
   "metadata": {
    "collapsed": true
   },
   "outputs": [],
   "source": [
    "#Test of all tickets join\n",
    "finance_and_tow_left_join_2016 = pd.merge(tow_data_2016, finance_ticket_data_2016, how='left', on=['date', 'License Plate Number'])"
   ]
  },
  {
   "cell_type": "code",
   "execution_count": 23,
   "metadata": {
    "collapsed": false
   },
   "outputs": [
    {
     "data": {
      "text/html": [
       "<div>\n",
       "<table border=\"1\" class=\"dataframe\">\n",
       "  <thead>\n",
       "    <tr style=\"text-align: right;\">\n",
       "      <th></th>\n",
       "      <th>Column</th>\n",
       "      <th>Service Request No</th>\n",
       "      <th>original_address_field</th>\n",
       "      <th>st_num_x</th>\n",
       "      <th>st_dir_x</th>\n",
       "      <th>st_name</th>\n",
       "      <th>Location</th>\n",
       "      <th>Created Date</th>\n",
       "      <th>Status Date</th>\n",
       "      <th>Status</th>\n",
       "      <th>...</th>\n",
       "      <th>lcns_plt_s</th>\n",
       "      <th>viol_cd</th>\n",
       "      <th>viol_desc</th>\n",
       "      <th>rpt_dstrct</th>\n",
       "      <th>vhcl_make</th>\n",
       "      <th>fine_lvl</th>\n",
       "      <th>tckt_que</th>\n",
       "      <th>year</th>\n",
       "      <th>on_route</th>\n",
       "      <th>datetime</th>\n",
       "    </tr>\n",
       "  </thead>\n",
       "  <tbody>\n",
       "    <tr>\n",
       "      <th>0</th>\n",
       "      <td>0.0</td>\n",
       "      <td>16-00055456</td>\n",
       "      <td>176 W WASHINGTON ST</td>\n",
       "      <td>176.0</td>\n",
       "      <td>W</td>\n",
       "      <td>WASHINGTON ST</td>\n",
       "      <td>176 W WASHINGTON ST</td>\n",
       "      <td>1/4/2016 0:00</td>\n",
       "      <td>2/19/2016 0:00</td>\n",
       "      <td>Completed</td>\n",
       "      <td>...</td>\n",
       "      <td>NaN</td>\n",
       "      <td>NaN</td>\n",
       "      <td>NaN</td>\n",
       "      <td>NaN</td>\n",
       "      <td>NaN</td>\n",
       "      <td>NaN</td>\n",
       "      <td>NaN</td>\n",
       "      <td>NaN</td>\n",
       "      <td>NaN</td>\n",
       "      <td>NaT</td>\n",
       "    </tr>\n",
       "    <tr>\n",
       "      <th>1</th>\n",
       "      <td>1.0</td>\n",
       "      <td>16-01223620</td>\n",
       "      <td>155 W HUBBARD ST</td>\n",
       "      <td>155.0</td>\n",
       "      <td>W</td>\n",
       "      <td>HUBBARD ST</td>\n",
       "      <td>155 W HUBBARD ST</td>\n",
       "      <td>2/29/2016 0:00</td>\n",
       "      <td>4/7/2016 0:00</td>\n",
       "      <td>Completed</td>\n",
       "      <td>...</td>\n",
       "      <td>NaN</td>\n",
       "      <td>NaN</td>\n",
       "      <td>NaN</td>\n",
       "      <td>NaN</td>\n",
       "      <td>NaN</td>\n",
       "      <td>NaN</td>\n",
       "      <td>NaN</td>\n",
       "      <td>NaN</td>\n",
       "      <td>NaN</td>\n",
       "      <td>NaT</td>\n",
       "    </tr>\n",
       "    <tr>\n",
       "      <th>2</th>\n",
       "      <td>2.0</td>\n",
       "      <td>16-01515133</td>\n",
       "      <td>721 S CLARK ST</td>\n",
       "      <td>721.0</td>\n",
       "      <td>S</td>\n",
       "      <td>CLARK ST</td>\n",
       "      <td>721 S CLARK ST</td>\n",
       "      <td>3/9/2016 0:00</td>\n",
       "      <td>4/7/2016 0:00</td>\n",
       "      <td>Completed</td>\n",
       "      <td>...</td>\n",
       "      <td>NaN</td>\n",
       "      <td>NaN</td>\n",
       "      <td>NaN</td>\n",
       "      <td>NaN</td>\n",
       "      <td>NaN</td>\n",
       "      <td>NaN</td>\n",
       "      <td>NaN</td>\n",
       "      <td>NaN</td>\n",
       "      <td>NaN</td>\n",
       "      <td>NaT</td>\n",
       "    </tr>\n",
       "    <tr>\n",
       "      <th>3</th>\n",
       "      <td>3.0</td>\n",
       "      <td>16-01906375</td>\n",
       "      <td>411 N STATE ST</td>\n",
       "      <td>411.0</td>\n",
       "      <td>N</td>\n",
       "      <td>STATE ST</td>\n",
       "      <td>411 N STATE ST</td>\n",
       "      <td>3/21/2016 0:00</td>\n",
       "      <td>4/7/2016 0:00</td>\n",
       "      <td>Completed</td>\n",
       "      <td>...</td>\n",
       "      <td>NaN</td>\n",
       "      <td>NaN</td>\n",
       "      <td>NaN</td>\n",
       "      <td>NaN</td>\n",
       "      <td>NaN</td>\n",
       "      <td>NaN</td>\n",
       "      <td>NaN</td>\n",
       "      <td>NaN</td>\n",
       "      <td>NaN</td>\n",
       "      <td>NaT</td>\n",
       "    </tr>\n",
       "    <tr>\n",
       "      <th>4</th>\n",
       "      <td>4.0</td>\n",
       "      <td>16-01981401</td>\n",
       "      <td>61 E SCHILLER ST</td>\n",
       "      <td>61.0</td>\n",
       "      <td>E</td>\n",
       "      <td>SCHILLER ST</td>\n",
       "      <td>61 E SCHILLER ST</td>\n",
       "      <td>3/24/2016 0:00</td>\n",
       "      <td>4/7/2016 0:00</td>\n",
       "      <td>Completed</td>\n",
       "      <td>...</td>\n",
       "      <td>NaN</td>\n",
       "      <td>NaN</td>\n",
       "      <td>NaN</td>\n",
       "      <td>NaN</td>\n",
       "      <td>NaN</td>\n",
       "      <td>NaN</td>\n",
       "      <td>NaN</td>\n",
       "      <td>NaN</td>\n",
       "      <td>NaN</td>\n",
       "      <td>NaT</td>\n",
       "    </tr>\n",
       "  </tbody>\n",
       "</table>\n",
       "<p>5 rows × 38 columns</p>\n",
       "</div>"
      ],
      "text/plain": [
       "   Column Service Request No original_address_field  st_num_x st_dir_x  \\\n",
       "0     0.0        16-00055456    176 W WASHINGTON ST     176.0        W   \n",
       "1     1.0        16-01223620       155 W HUBBARD ST     155.0        W   \n",
       "2     2.0        16-01515133         721 S CLARK ST     721.0        S   \n",
       "3     3.0        16-01906375         411 N STATE ST     411.0        N   \n",
       "4     4.0        16-01981401       61 E SCHILLER ST      61.0        E   \n",
       "\n",
       "         st_name             Location    Created Date     Status Date  \\\n",
       "0  WASHINGTON ST  176 W WASHINGTON ST   1/4/2016 0:00  2/19/2016 0:00   \n",
       "1     HUBBARD ST     155 W HUBBARD ST  2/29/2016 0:00   4/7/2016 0:00   \n",
       "2       CLARK ST       721 S CLARK ST   3/9/2016 0:00   4/7/2016 0:00   \n",
       "3       STATE ST       411 N STATE ST  3/21/2016 0:00   4/7/2016 0:00   \n",
       "4    SCHILLER ST     61 E SCHILLER ST  3/24/2016 0:00   4/7/2016 0:00   \n",
       "\n",
       "      Status    ...    lcns_plt_s viol_cd  viol_desc  rpt_dstrct  vhcl_make  \\\n",
       "0  Completed    ...           NaN     NaN        NaN         NaN        NaN   \n",
       "1  Completed    ...           NaN     NaN        NaN         NaN        NaN   \n",
       "2  Completed    ...           NaN     NaN        NaN         NaN        NaN   \n",
       "3  Completed    ...           NaN     NaN        NaN         NaN        NaN   \n",
       "4  Completed    ...           NaN     NaN        NaN         NaN        NaN   \n",
       "\n",
       "  fine_lvl tckt_que year  on_route  datetime  \n",
       "0      NaN      NaN  NaN       NaN       NaT  \n",
       "1      NaN      NaN  NaN       NaN       NaT  \n",
       "2      NaN      NaN  NaN       NaN       NaT  \n",
       "3      NaN      NaN  NaN       NaN       NaT  \n",
       "4      NaN      NaN  NaN       NaN       NaT  \n",
       "\n",
       "[5 rows x 38 columns]"
      ]
     },
     "execution_count": 23,
     "metadata": {},
     "output_type": "execute_result"
    }
   ],
   "source": [
    "finance_and_tow_left_join_2016[:5]"
   ]
  },
  {
   "cell_type": "code",
   "execution_count": 24,
   "metadata": {
    "collapsed": true
   },
   "outputs": [],
   "source": [
    "#Test export of all tickets\n",
    "finance_and_tow_left_join_2016.to_csv('/Users/eramos/Documents/data_stories/tows/data/ticket_data/final_working_data_to_be_posted_for_story/for_real_reals/final_ticket_and_tow_left_join_2016.csv')"
   ]
  },
  {
   "cell_type": "code",
   "execution_count": 25,
   "metadata": {
    "collapsed": true
   },
   "outputs": [],
   "source": [
    "#Test of all tickets join\n",
    "finance_and_tow_right_join_2016 = pd.merge(tow_data_2016, finance_ticket_data_2016, how='right', on=['date', 'License Plate Number'])"
   ]
  },
  {
   "cell_type": "code",
   "execution_count": 26,
   "metadata": {
    "collapsed": false
   },
   "outputs": [
    {
     "data": {
      "text/html": [
       "<div>\n",
       "<table border=\"1\" class=\"dataframe\">\n",
       "  <thead>\n",
       "    <tr style=\"text-align: right;\">\n",
       "      <th></th>\n",
       "      <th>Column</th>\n",
       "      <th>Service Request No</th>\n",
       "      <th>original_address_field</th>\n",
       "      <th>st_num_x</th>\n",
       "      <th>st_dir_x</th>\n",
       "      <th>st_name</th>\n",
       "      <th>Location</th>\n",
       "      <th>Created Date</th>\n",
       "      <th>Status Date</th>\n",
       "      <th>Status</th>\n",
       "      <th>...</th>\n",
       "      <th>lcns_plt_s</th>\n",
       "      <th>viol_cd</th>\n",
       "      <th>viol_desc</th>\n",
       "      <th>rpt_dstrct</th>\n",
       "      <th>vhcl_make</th>\n",
       "      <th>fine_lvl</th>\n",
       "      <th>tckt_que</th>\n",
       "      <th>year</th>\n",
       "      <th>on_route</th>\n",
       "      <th>datetime</th>\n",
       "    </tr>\n",
       "  </thead>\n",
       "  <tbody>\n",
       "    <tr>\n",
       "      <th>0</th>\n",
       "      <td>12.0</td>\n",
       "      <td>16-00052728</td>\n",
       "      <td>543 W MADISON ST</td>\n",
       "      <td>543.0</td>\n",
       "      <td>W</td>\n",
       "      <td>MADISON ST</td>\n",
       "      <td>543 W MADISON ST</td>\n",
       "      <td>1/4/2016 0:00</td>\n",
       "      <td>1/7/2016 0:00</td>\n",
       "      <td>Completed</td>\n",
       "      <td>...</td>\n",
       "      <td>IL</td>\n",
       "      <td>964060</td>\n",
       "      <td>3-7 AM SNOW ROUTE</td>\n",
       "      <td>1</td>\n",
       "      <td>FORD</td>\n",
       "      <td>60</td>\n",
       "      <td>Paid</td>\n",
       "      <td>2016</td>\n",
       "      <td>True</td>\n",
       "      <td>2016-01-01 03:33:00</td>\n",
       "    </tr>\n",
       "    <tr>\n",
       "      <th>1</th>\n",
       "      <td>24.0</td>\n",
       "      <td>16-00070405</td>\n",
       "      <td>5215 S ARCHER AVE</td>\n",
       "      <td>5215.0</td>\n",
       "      <td>S</td>\n",
       "      <td>ARCHER AVE</td>\n",
       "      <td>5215 S ARCHER AVE</td>\n",
       "      <td>1/5/2016 0:00</td>\n",
       "      <td>1/7/2016 0:00</td>\n",
       "      <td>Completed</td>\n",
       "      <td>...</td>\n",
       "      <td>IL</td>\n",
       "      <td>964060</td>\n",
       "      <td>3-7 AM SNOW ROUTE</td>\n",
       "      <td>8</td>\n",
       "      <td>MITS</td>\n",
       "      <td>120</td>\n",
       "      <td>Notice</td>\n",
       "      <td>2016</td>\n",
       "      <td>True</td>\n",
       "      <td>2016-01-02 03:21:00</td>\n",
       "    </tr>\n",
       "    <tr>\n",
       "      <th>2</th>\n",
       "      <td>28.0</td>\n",
       "      <td>16-00070409</td>\n",
       "      <td>1439 S STATE ST</td>\n",
       "      <td>1439.0</td>\n",
       "      <td>S</td>\n",
       "      <td>STATE ST</td>\n",
       "      <td>1439 S STATE ST</td>\n",
       "      <td>1/5/2016 0:00</td>\n",
       "      <td>1/7/2016 0:00</td>\n",
       "      <td>Completed</td>\n",
       "      <td>...</td>\n",
       "      <td>IL</td>\n",
       "      <td>964060</td>\n",
       "      <td>3-7 AM SNOW ROUTE</td>\n",
       "      <td>1</td>\n",
       "      <td>NISS</td>\n",
       "      <td>60</td>\n",
       "      <td>Paid</td>\n",
       "      <td>2016</td>\n",
       "      <td>True</td>\n",
       "      <td>2016-01-02 04:04:00</td>\n",
       "    </tr>\n",
       "    <tr>\n",
       "      <th>3</th>\n",
       "      <td>29.0</td>\n",
       "      <td>16-00070410</td>\n",
       "      <td>1441 S STATE ST</td>\n",
       "      <td>1441.0</td>\n",
       "      <td>S</td>\n",
       "      <td>STATE ST</td>\n",
       "      <td>1441 S STATE ST</td>\n",
       "      <td>1/5/2016 0:00</td>\n",
       "      <td>1/7/2016 0:00</td>\n",
       "      <td>Completed</td>\n",
       "      <td>...</td>\n",
       "      <td>MO</td>\n",
       "      <td>964060</td>\n",
       "      <td>3-7 AM SNOW ROUTE</td>\n",
       "      <td>1</td>\n",
       "      <td>CHEV</td>\n",
       "      <td>60</td>\n",
       "      <td>Paid</td>\n",
       "      <td>2016</td>\n",
       "      <td>True</td>\n",
       "      <td>2016-01-02 04:02:00</td>\n",
       "    </tr>\n",
       "    <tr>\n",
       "      <th>4</th>\n",
       "      <td>36.0</td>\n",
       "      <td>16-00070419</td>\n",
       "      <td>601 W MADISON ST</td>\n",
       "      <td>601.0</td>\n",
       "      <td>W</td>\n",
       "      <td>MADISON ST</td>\n",
       "      <td>601 W MADISON ST</td>\n",
       "      <td>1/5/2016 0:00</td>\n",
       "      <td>1/7/2016 0:00</td>\n",
       "      <td>Completed</td>\n",
       "      <td>...</td>\n",
       "      <td>MI</td>\n",
       "      <td>964060</td>\n",
       "      <td>3-7 AM SNOW ROUTE</td>\n",
       "      <td>1</td>\n",
       "      <td>FORD</td>\n",
       "      <td>120</td>\n",
       "      <td>Paid</td>\n",
       "      <td>2016</td>\n",
       "      <td>True</td>\n",
       "      <td>2016-01-02 03:24:00</td>\n",
       "    </tr>\n",
       "  </tbody>\n",
       "</table>\n",
       "<p>5 rows × 38 columns</p>\n",
       "</div>"
      ],
      "text/plain": [
       "   Column Service Request No original_address_field  st_num_x st_dir_x  \\\n",
       "0    12.0        16-00052728       543 W MADISON ST     543.0        W   \n",
       "1    24.0        16-00070405      5215 S ARCHER AVE    5215.0        S   \n",
       "2    28.0        16-00070409        1439 S STATE ST    1439.0        S   \n",
       "3    29.0        16-00070410        1441 S STATE ST    1441.0        S   \n",
       "4    36.0        16-00070419       601 W MADISON ST     601.0        W   \n",
       "\n",
       "      st_name           Location   Created Date    Status Date     Status  \\\n",
       "0  MADISON ST   543 W MADISON ST  1/4/2016 0:00  1/7/2016 0:00  Completed   \n",
       "1  ARCHER AVE  5215 S ARCHER AVE  1/5/2016 0:00  1/7/2016 0:00  Completed   \n",
       "2    STATE ST    1439 S STATE ST  1/5/2016 0:00  1/7/2016 0:00  Completed   \n",
       "3    STATE ST    1441 S STATE ST  1/5/2016 0:00  1/7/2016 0:00  Completed   \n",
       "4  MADISON ST   601 W MADISON ST  1/5/2016 0:00  1/7/2016 0:00  Completed   \n",
       "\n",
       "          ...         lcns_plt_s viol_cd          viol_desc  rpt_dstrct  \\\n",
       "0         ...                 IL  964060  3-7 AM SNOW ROUTE           1   \n",
       "1         ...                 IL  964060  3-7 AM SNOW ROUTE           8   \n",
       "2         ...                 IL  964060  3-7 AM SNOW ROUTE           1   \n",
       "3         ...                 MO  964060  3-7 AM SNOW ROUTE           1   \n",
       "4         ...                 MI  964060  3-7 AM SNOW ROUTE           1   \n",
       "\n",
       "   vhcl_make fine_lvl tckt_que  year  on_route            datetime  \n",
       "0       FORD       60     Paid  2016      True 2016-01-01 03:33:00  \n",
       "1       MITS      120   Notice  2016      True 2016-01-02 03:21:00  \n",
       "2       NISS       60     Paid  2016      True 2016-01-02 04:04:00  \n",
       "3       CHEV       60     Paid  2016      True 2016-01-02 04:02:00  \n",
       "4       FORD      120     Paid  2016      True 2016-01-02 03:24:00  \n",
       "\n",
       "[5 rows x 38 columns]"
      ]
     },
     "execution_count": 26,
     "metadata": {},
     "output_type": "execute_result"
    }
   ],
   "source": [
    "finance_and_tow_right_join_2016[:5]"
   ]
  },
  {
   "cell_type": "code",
   "execution_count": 27,
   "metadata": {
    "collapsed": true
   },
   "outputs": [],
   "source": [
    "#Test export of all tickets\n",
    "finance_and_tow_right_join_2016.to_csv('/Users/eramos/Documents/data_stories/tows/data/ticket_data/final_working_data_to_be_posted_for_story/for_real_reals/final_finance_and_tow_right_join_2016.csv')"
   ]
  },
  {
   "cell_type": "code",
   "execution_count": null,
   "metadata": {
    "collapsed": true
   },
   "outputs": [],
   "source": []
  }
 ],
 "metadata": {
  "kernelspec": {
   "display_name": "Python 2",
   "language": "python",
   "name": "python2"
  },
  "language_info": {
   "codemirror_mode": {
    "name": "ipython",
    "version": 2
   },
   "file_extension": ".py",
   "mimetype": "text/x-python",
   "name": "python",
   "nbconvert_exporter": "python",
   "pygments_lexer": "ipython2",
   "version": "2.7.11"
  }
 },
 "nbformat": 4,
 "nbformat_minor": 0
}
